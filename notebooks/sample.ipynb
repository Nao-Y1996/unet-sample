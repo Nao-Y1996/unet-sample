{
 "cells": [
  {
   "cell_type": "code",
   "outputs": [
    {
     "data": {
      "text/plain": "torch.Size([1, 1, 3, 3])"
     },
     "execution_count": 89,
     "metadata": {},
     "output_type": "execute_result"
    }
   ],
   "source": [
    "import torch\n",
    "\n",
    "input = torch.tensor([[[[1, 2, 3], [4, 5, 6], [7, 8, 9]]]]).float()\n",
    "input\n",
    "input.shape"
   ],
   "metadata": {
    "collapsed": false,
    "ExecuteTime": {
     "end_time": "2024-04-29T05:33:44.594252Z",
     "start_time": "2024-04-29T05:33:44.589025Z"
    }
   },
   "id": "6412a93040aea90e",
   "execution_count": 89
  },
  {
   "cell_type": "code",
   "outputs": [
    {
     "data": {
      "text/plain": "tensor([[[[ 1.,  1.,  3.,  2.,  5.,  3.,  3.],\n          [ 1.,  1.,  3.,  2.,  5.,  3.,  3.],\n          [ 5.,  5., 12.,  7., 16.,  9.,  9.],\n          [ 4.,  4.,  9.,  5., 11.,  6.,  6.],\n          [11., 11., 24., 13., 28., 15., 15.],\n          [ 7.,  7., 15.,  8., 17.,  9.,  9.],\n          [ 7.,  7., 15.,  8., 17.,  9.,  9.]]]],\n       grad_fn=<ConvolutionBackward0>)"
     },
     "execution_count": 46,
     "metadata": {},
     "output_type": "execute_result"
    }
   ],
   "source": [
    "from torch.nn import ConvTranspose2d\n",
    "\n",
    "conv_transpose = ConvTranspose2d(in_channels=1, out_channels=1,\n",
    "                                 kernel_size=3,   # カーネルサイズを決めるとconv2dにおけるpaddingの幅が決まる（kernel_size -1 のはばの余白が取られる）\n",
    "                                 stride=2,  # conv2dにおけるstrideと同じだが、inputの要素を無視しないように各行と各列に余白を追加する\n",
    "                                 padding=0,  # 削る余白\n",
    "                                 output_padding=0,  # 出力に付け足す余白\n",
    "                                 dilation=1,  # カーネルを拡大させるパラメータ（カーネル要素の間隔を空ける(膨張畳み込み)、デフォルトは拡大しない(=1)）\n",
    "                                 )\n",
    "\n",
    "# 重みとバイアスを単純な値で初期化\n",
    "# ここでは重みをすべて1に設定し、バイアスを0に設定\n",
    "conv_transpose.weight.data.fill_(1)\n",
    "conv_transpose.bias.data.fill_(0)\n",
    "\n",
    "output = conv_transpose(input)\n",
    "output"
   ],
   "metadata": {
    "collapsed": false,
    "ExecuteTime": {
     "end_time": "2024-04-29T02:50:49.225447Z",
     "start_time": "2024-04-29T02:50:49.221240Z"
    }
   },
   "id": "57e7e7ccda03184a",
   "execution_count": 46
  },
  {
   "cell_type": "code",
   "outputs": [
    {
     "data": {
      "text/plain": "32"
     },
     "execution_count": 53,
     "metadata": {},
     "output_type": "execute_result"
    }
   ],
   "source": [
    "in_h = 16\n",
    "# outが32となるようにパラメータを設定する\n",
    "\n",
    "kernel_size = 3\n",
    "stride = 2\n",
    "padding = 1\n",
    "dilation = 1\n",
    "output_padding = 1\n",
    "\n",
    "out = (in_h - 1) * stride - 2 * padding + dilation * (kernel_size - 1) + output_padding + 1\n",
    "out  # -> 32"
   ],
   "metadata": {
    "collapsed": false,
    "ExecuteTime": {
     "end_time": "2024-04-29T03:42:09.479316Z",
     "start_time": "2024-04-29T03:42:09.475605Z"
    }
   },
   "id": "4c1ff3bab16bf4cf",
   "execution_count": 53
  },
  {
   "cell_type": "code",
   "outputs": [
    {
     "data": {
      "text/plain": "32"
     },
     "execution_count": 65,
     "metadata": {},
     "output_type": "execute_result"
    }
   ],
   "source": [
    "in_h = 16\n",
    "# outが32となるようにパラメータを設定する\n",
    "\n",
    "kernel_size = 3\n",
    "stride = 2\n",
    "padding = 1\n",
    "dilation = 2\n",
    "output_padding = -1\n",
    "\n",
    "out = (in_h - 1) * stride - 2 * padding + dilation * (kernel_size - 1) + output_padding + 1\n",
    "out  # -> 32"
   ],
   "metadata": {
    "collapsed": false,
    "ExecuteTime": {
     "end_time": "2024-04-29T03:51:38.615166Z",
     "start_time": "2024-04-29T03:51:38.611781Z"
    }
   },
   "id": "e78de1e4f76188c8",
   "execution_count": 65
  },
  {
   "cell_type": "code",
   "outputs": [
    {
     "data": {
      "text/plain": "8"
     },
     "execution_count": 79,
     "metadata": {},
     "output_type": "execute_result"
    }
   ],
   "source": [
    "in_h = 6\n",
    "\n",
    "# outが2倍になるようにパラメータ（一般的な例）\n",
    "kernel_size = 3\n",
    "stride = 1\n",
    "\n",
    "padding = 0  # デフォルト値、outputから削る余白の幅（余白は削らない）\n",
    "output_padding = 0  # デフォルト値（出力に付け足す余白はない）\n",
    "dilation = 1  # デフォルト値（カーネルは拡大しない）\n",
    "\n",
    "# 出力サイズ計算式\n",
    "out = (in_h - 1) * stride - 2 * padding + dilation * (kernel_size - 1) + output_padding + 1\n",
    "out"
   ],
   "metadata": {
    "collapsed": false,
    "ExecuteTime": {
     "end_time": "2024-04-29T04:19:49.733572Z",
     "start_time": "2024-04-29T04:19:49.730417Z"
    }
   },
   "id": "5d7bb79920a227e4",
   "execution_count": 79
  },
  {
   "cell_type": "code",
   "outputs": [
    {
     "data": {
      "text/plain": "tensor([[[[1., 2., 3.],\n          [4., 5., 6.],\n          [7., 8., 9.]]]])"
     },
     "execution_count": 86,
     "metadata": {},
     "output_type": "execute_result"
    }
   ],
   "source": [
    "input2 = input.detach().clone()\n",
    "input2"
   ],
   "metadata": {
    "collapsed": false,
    "ExecuteTime": {
     "end_time": "2024-04-29T05:31:54.888733Z",
     "start_time": "2024-04-29T05:31:54.883779Z"
    }
   },
   "id": "96eb9c3aeb7cb63a",
   "execution_count": 86
  },
  {
   "cell_type": "code",
   "outputs": [
    {
     "data": {
      "text/plain": "tensor([[[[1., 2., 3.],\n          [4., 5., 6.],\n          [7., 8., 9.]],\n\n         [[1., 2., 3.],\n          [4., 5., 6.],\n          [7., 8., 9.]]]])"
     },
     "execution_count": 88,
     "metadata": {},
     "output_type": "execute_result"
    }
   ],
   "source": [
    "cat = torch.cat([input, input2], dim=1)\n",
    "cat"
   ],
   "metadata": {
    "collapsed": false,
    "ExecuteTime": {
     "end_time": "2024-04-29T05:32:15.873792Z",
     "start_time": "2024-04-29T05:32:15.870451Z"
    }
   },
   "id": "24cd1e9a36baad8d",
   "execution_count": 88
  },
  {
   "cell_type": "code",
   "outputs": [],
   "source": [],
   "metadata": {
    "collapsed": false
   },
   "id": "e06f79b5e350b12c"
  }
 ],
 "metadata": {
  "kernelspec": {
   "display_name": "Python 3",
   "language": "python",
   "name": "python3"
  },
  "language_info": {
   "codemirror_mode": {
    "name": "ipython",
    "version": 2
   },
   "file_extension": ".py",
   "mimetype": "text/x-python",
   "name": "python",
   "nbconvert_exporter": "python",
   "pygments_lexer": "ipython2",
   "version": "2.7.6"
  }
 },
 "nbformat": 4,
 "nbformat_minor": 5
}
